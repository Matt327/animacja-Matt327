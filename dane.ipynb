{
 "cells": [
  {
   "cell_type": "code",
   "execution_count": 1,
   "metadata": {},
   "outputs": [],
   "source": [
    "import pandas as pd \n",
    "import numpy as np\n",
    "import random\n",
    "import matplotlib.pyplot as plt\n",
    "import matplotlib.animation as animation\n",
    "from matplotlib.backends.backend_pdf import PdfPages\n",
    "import os"
   ]
  },
  {
   "cell_type": "code",
   "execution_count": 2,
   "metadata": {},
   "outputs": [],
   "source": [
    "# Tworzenie daty początkowej i interwału czasowego\n",
    "start_date = pd.Timestamp(2024, 4, 1)\n",
    "time_interval = pd.Timedelta(days=1)\n",
    "\n",
    "# Tworzenie daty końcowej (30 dni)\n",
    "end_date = start_date + time_interval * 30\n",
    "\n",
    "# Generowanie danych losowych dla 30 dni, po 500 próbek na dzień (co 5 minut)\n",
    "dates = pd.date_range(start=start_date, periods=500 * 30, freq='5T')\n",
    "values = [random.randint(0, 100) for _ in range(500 * 30)]\n",
    "\n",
    "# Tworzenie ramki danych pandas\n",
    "data = pd.DataFrame({'Wartość': values}, index=dates)\n",
    "data.index.name = 'Data_Time' \n",
    "\n",
    "data['Data'] = data.index.round('D')\n",
    "\n",
    "\n",
    "# Zapisywanie danych do pliku CSV\n",
    "data.to_csv('dane_losowe.csv')\n"
   ]
  },
  {
   "cell_type": "code",
   "execution_count": 3,
   "metadata": {},
   "outputs": [],
   "source": [
    "\n",
    "df = pd.read_csv('dane_losowe.csv')\n",
    "\n",
    "grouped_df = df.groupby('Data')\n",
    "\n",
    "# for date, group in grouped_df:\n",
    "#     plt.figure(figsize=(10, 6))\n",
    "#     group.hist()\n",
    "#     plt.suptitle(f\"Histogramy dla dlancyh z dnia: {date}\")\n",
    "#     plt.show()\n"
   ]
  },
  {
   "cell_type": "code",
   "execution_count": 4,
   "metadata": {},
   "outputs": [],
   "source": [
    "# Tworzenie folderu \"wykresy\" jeśli nie istnieje\n",
    "os.makedirs('wykresy', exist_ok=True)\n",
    "\n",
    "# Ścieżka do pliku PDF\n",
    "pdf_path = os.path.join('wykresy', 'histogramy.pdf')\n",
    "\n",
    "# # Zapisanie histogramów do pliku PDF\n",
    "# with PdfPages(pdf_path) as pdf:\n",
    "#     for date, group in grouped_df:\n",
    "#         plt.figure(figsize=(10, 6))\n",
    "#         group.hist()\n",
    "#         plt.suptitle(f\"Histogramy dla grupy o dacie: {date}\")\n",
    "#         pdf.savefig()  # Zapisanie bieżącej figury do pliku PDF\n",
    "#         plt.close()  # Zamknięcie figury aby zwolnić pamięć"
   ]
  },
  {
   "cell_type": "code",
   "execution_count": 6,
   "metadata": {},
   "outputs": [],
   "source": [
    "# Tworzenie figury do animacji\n",
    "fig, ax = plt.subplots(figsize=(10, 6))\n",
    "\n",
    "def animate(i):\n",
    "    ax.clear()\n",
    "    date, group = list(grouped_df)[i]\n",
    "    group.hist(ax=ax)\n",
    "    ax.set_title(f\"Histogramy dla grupy o dacie: {date}\")\n",
    "\n",
    "# Liczba klatek w animacji (ilość grup)\n",
    "num_frames = len(grouped_df)\n",
    "\n",
    "# Tworzenie animacji\n",
    "ani = animation.FuncAnimation(fig, animate, frames=num_frames, repeat=False)\n",
    "\n",
    "# Ścieżka do pliku wideo\n",
    "video_path = os.path.join('wykresy', 'histogramy.mp4')\n",
    "\n",
    "# Zapisanie animacji do pliku wideo\n",
    "ani.save(video_path, writer='ffmpeg')\n",
    "\n",
    "plt.close()"
   ]
  }
 ],
 "metadata": {
  "kernelspec": {
   "display_name": "Python 3",
   "language": "python",
   "name": "python3"
  },
  "language_info": {
   "codemirror_mode": {
    "name": "ipython",
    "version": 3
   },
   "file_extension": ".py",
   "mimetype": "text/x-python",
   "name": "python",
   "nbconvert_exporter": "python",
   "pygments_lexer": "ipython3",
   "version": "3.12.0"
  }
 },
 "nbformat": 4,
 "nbformat_minor": 2
}
